{
 "cells": [
  {
   "cell_type": "code",
   "execution_count": 1,
   "metadata": {},
   "outputs": [],
   "source": [
    "import numpy as np\n",
    "from fwl.dataset import Dataset\n",
    "import fwl.fwl as fwl\n",
    "from fwl.helpers import euclidean_dist\n",
    "\n",
    "diabetes_ds = Dataset('diabetes', normalized=True)\n",
    "ozone_ds = Dataset('ozone-320', normalized=True)\n",
    "spectf_heart_ds = Dataset('spectf-heart', normalized=True)"
   ]
  },
  {
   "cell_type": "code",
   "execution_count": 2,
   "metadata": {},
   "outputs": [
    {
     "data": {
      "text/html": [
       "<style type=\"text/css\">\n",
       "</style>\n",
       "<table id=\"T_9b426\">\n",
       "  <caption>Relief</caption>\n",
       "  <thead>\n",
       "    <tr>\n",
       "      <th class=\"blank level0\" >&nbsp;</th>\n",
       "      <th id=\"T_9b426_level0_col0\" class=\"col_heading level0 col0\" >%_clas</th>\n",
       "      <th id=\"T_9b426_level0_col1\" class=\"col_heading level0 col1\" >%_red</th>\n",
       "      <th id=\"T_9b426_level0_col2\" class=\"col_heading level0 col2\" >Fit.</th>\n",
       "      <th id=\"T_9b426_level0_col3\" class=\"col_heading level0 col3\" >T(s)</th>\n",
       "    </tr>\n",
       "  </thead>\n",
       "  <tbody>\n",
       "    <tr>\n",
       "      <th id=\"T_9b426_level0_row0\" class=\"row_heading level0 row0\" >Partición 1</th>\n",
       "      <td id=\"T_9b426_row0_col0\" class=\"data row0 col0\" >81.428574</td>\n",
       "      <td id=\"T_9b426_row0_col1\" class=\"data row0 col1\" >68.181816</td>\n",
       "      <td id=\"T_9b426_row0_col2\" class=\"data row0 col2\" >72.155846</td>\n",
       "      <td id=\"T_9b426_row0_col3\" class=\"data row0 col3\" >0.195872</td>\n",
       "    </tr>\n",
       "    <tr>\n",
       "      <th id=\"T_9b426_level0_row1\" class=\"row_heading level0 row1\" >Partición 2</th>\n",
       "      <td id=\"T_9b426_row1_col0\" class=\"data row1 col0\" >84.285713</td>\n",
       "      <td id=\"T_9b426_row1_col1\" class=\"data row1 col1\" >65.909088</td>\n",
       "      <td id=\"T_9b426_row1_col2\" class=\"data row1 col2\" >71.422081</td>\n",
       "      <td id=\"T_9b426_row1_col3\" class=\"data row1 col3\" >0.168396</td>\n",
       "    </tr>\n",
       "    <tr>\n",
       "      <th id=\"T_9b426_level0_row2\" class=\"row_heading level0 row2\" >Partición 3</th>\n",
       "      <td id=\"T_9b426_row2_col0\" class=\"data row2 col0\" >88.571426</td>\n",
       "      <td id=\"T_9b426_row2_col1\" class=\"data row2 col1\" >63.636364</td>\n",
       "      <td id=\"T_9b426_row2_col2\" class=\"data row2 col2\" >71.116882</td>\n",
       "      <td id=\"T_9b426_row2_col3\" class=\"data row2 col3\" >0.178285</td>\n",
       "    </tr>\n",
       "    <tr>\n",
       "      <th id=\"T_9b426_level0_row3\" class=\"row_heading level0 row3\" >Partición 4</th>\n",
       "      <td id=\"T_9b426_row3_col0\" class=\"data row3 col0\" >82.857140</td>\n",
       "      <td id=\"T_9b426_row3_col1\" class=\"data row3 col1\" >61.363636</td>\n",
       "      <td id=\"T_9b426_row3_col2\" class=\"data row3 col2\" >67.811691</td>\n",
       "      <td id=\"T_9b426_row3_col3\" class=\"data row3 col3\" >0.186640</td>\n",
       "    </tr>\n",
       "    <tr>\n",
       "      <th id=\"T_9b426_level0_row4\" class=\"row_heading level0 row4\" >Partición 5</th>\n",
       "      <td id=\"T_9b426_row4_col0\" class=\"data row4 col0\" >81.159424</td>\n",
       "      <td id=\"T_9b426_row4_col1\" class=\"data row4 col1\" >68.181816</td>\n",
       "      <td id=\"T_9b426_row4_col2\" class=\"data row4 col2\" >72.075096</td>\n",
       "      <td id=\"T_9b426_row4_col3\" class=\"data row4 col3\" >0.183717</td>\n",
       "    </tr>\n",
       "    <tr>\n",
       "      <th id=\"T_9b426_level0_row5\" class=\"row_heading level0 row5\" >Media</th>\n",
       "      <td id=\"T_9b426_row5_col0\" class=\"data row5 col0\" >83.660454</td>\n",
       "      <td id=\"T_9b426_row5_col1\" class=\"data row5 col1\" >65.454544</td>\n",
       "      <td id=\"T_9b426_row5_col2\" class=\"data row5 col2\" >70.916321</td>\n",
       "      <td id=\"T_9b426_row5_col3\" class=\"data row5 col3\" >0.182582</td>\n",
       "    </tr>\n",
       "  </tbody>\n",
       "</table>\n"
      ],
      "text/plain": [
       "<pandas.io.formats.style.Styler at 0x7f6d74282440>"
      ]
     },
     "execution_count": 2,
     "metadata": {},
     "output_type": "execute_result"
    }
   ],
   "source": [
    "score_relief = fwl.validate(ds=spectf_heart_ds, fwl_algo=fwl.relief_fast).style.set_caption('Relief')\n",
    "score_relief"
   ]
  },
  {
   "cell_type": "code",
   "execution_count": null,
   "metadata": {},
   "outputs": [],
   "source": [
    "# First fold\n",
    "test_part_key = 5\n",
    "x_train = np.concatenate([ozone_ds.partitions[i] for i in filter(lambda x: x != test_part_key, ozone_ds.partitions)])\n",
    "y_train = np.concatenate([ozone_ds.classes[i] for i in filter(lambda x: x != test_part_key, ozone_ds.partitions)])\n",
    "\n",
    "# dists = np.linalg.norm(x_train[:, np.newaxis, :] - x_train[np.newaxis, :, :], axis=-1)\n",
    "\n",
    "# friend_of_0 = np.argsort(dists[0, :])[1]\n",
    "# euclidean_dist(x_train[0], x_train[friend_of_0, :], np.ones(x_train.shape[1]))\n",
    "# print(np.min(dists[1, 1:]))\n",
    "\n",
    "# lst = []\n",
    "# for d in dists:\n",
    "# \t\t # Second lowest\n",
    "#     lst.append(np.partition(d, 1)[1])\n",
    "# lst = np.array(lst)\n",
    "# lst[lst == 0.0]\n",
    "\n",
    "w = fwl.relief_fast(x_train=x_train, y_train=y_train)\n",
    "st = \"\"\n",
    "for i in w:\n",
    "    st += str(i) + \",\"\n",
    "st"
   ]
  },
  {
   "cell_type": "code",
   "execution_count": null,
   "metadata": {},
   "outputs": [],
   "source": [
    "# Test for one dataset\n",
    "for test_part_key in range(5):\n",
    "\tx_train = np.concatenate([diabetes_ds.partitions[i] for i in filter(lambda x: x != test_part_key, diabetes_ds.partitions)])\n",
    "\ty_train = np.concatenate([diabetes_ds.classes[i] for i in filter(lambda x: x != test_part_key, diabetes_ds.partitions)])\n",
    "\n",
    "\tw = fwl.relief(x_train=x_train, y_train=y_train)\n",
    "\tprint(f'Fold #{test_part_key+1}')\n",
    "\tprint(w)"
   ]
  },
  {
   "cell_type": "code",
   "execution_count": null,
   "metadata": {},
   "outputs": [],
   "source": [
    "for test_part_key in range(5):\n",
    "\tx_train = np.concatenate([diabetes_ds.partitions[i] for i in filter(lambda x: x != test_part_key, diabetes_ds.partitions)])\n",
    "\ty_train = np.concatenate([diabetes_ds.classes[i] for i in filter(lambda x: x != test_part_key, diabetes_ds.partitions)])\n",
    "\n",
    "\tw = fwl.relief_fast(x_train=x_train, y_train=y_train)\n",
    "\tprint(f'Fold #{test_part_key+1}')\n",
    "\tprint(w)"
   ]
  },
  {
   "cell_type": "code",
   "execution_count": null,
   "metadata": {},
   "outputs": [],
   "source": [
    "\n",
    "for test_part_key in range(5):\n",
    "\tx_train = np.concatenate([ozone_ds.partitions[i] for i in filter(lambda x: x != test_part_key, ozone_ds.partitions)])\n",
    "\ty_train = np.concatenate([ozone_ds.classes[i] for i in filter(lambda x: x != test_part_key, ozone_ds.partitions)])\n",
    "\n",
    "\tw = fwl.relief(x_train=x_train, y_train=y_train)\n",
    "\tprint(f'Fold #{test_part_key+1}')\n",
    "\tprint(w)"
   ]
  }
 ],
 "metadata": {
  "kernelspec": {
   "display_name": "env",
   "language": "python",
   "name": "python3"
  },
  "language_info": {
   "codemirror_mode": {
    "name": "ipython",
    "version": 3
   },
   "file_extension": ".py",
   "mimetype": "text/x-python",
   "name": "python",
   "nbconvert_exporter": "python",
   "pygments_lexer": "ipython3",
   "version": "3.10.6"
  },
  "orig_nbformat": 4
 },
 "nbformat": 4,
 "nbformat_minor": 2
}
