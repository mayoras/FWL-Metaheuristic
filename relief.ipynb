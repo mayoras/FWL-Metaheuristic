{
 "cells": [
  {
   "cell_type": "code",
   "execution_count": 1,
   "metadata": {},
   "outputs": [],
   "source": [
    "import numpy as np\n",
    "from fwl.dataset import Dataset\n",
    "import fwl.fwl as fwl\n",
    "\n",
    "diabetes_ds = Dataset('diabetes', normalized=True)\n",
    "ozone_ds = Dataset('ozone-320', normalized=True)\n",
    "spectf_heart_ds = Dataset('spectf-heart', normalized=True)"
   ]
  },
  {
   "cell_type": "code",
   "execution_count": 2,
   "metadata": {},
   "outputs": [
    {
     "data": {
      "text/html": [
       "<style type=\"text/css\">\n",
       "</style>\n",
       "<table id=\"T_0bf44\">\n",
       "  <caption>Relief</caption>\n",
       "  <thead>\n",
       "    <tr>\n",
       "      <th class=\"blank level0\" >&nbsp;</th>\n",
       "      <th id=\"T_0bf44_level0_col0\" class=\"col_heading level0 col0\" >%_clas</th>\n",
       "      <th id=\"T_0bf44_level0_col1\" class=\"col_heading level0 col1\" >%_red</th>\n",
       "      <th id=\"T_0bf44_level0_col2\" class=\"col_heading level0 col2\" >Fit.</th>\n",
       "      <th id=\"T_0bf44_level0_col3\" class=\"col_heading level0 col3\" >T(s)</th>\n",
       "    </tr>\n",
       "  </thead>\n",
       "  <tbody>\n",
       "    <tr>\n",
       "      <th id=\"T_0bf44_level0_row0\" class=\"row_heading level0 row0\" >Partición 1</th>\n",
       "      <td id=\"T_0bf44_row0_col0\" class=\"data row0 col0\" >70.779221</td>\n",
       "      <td id=\"T_0bf44_row0_col1\" class=\"data row0 col1\" >50.000000</td>\n",
       "      <td id=\"T_0bf44_row0_col2\" class=\"data row0 col2\" >66.623375</td>\n",
       "      <td id=\"T_0bf44_row0_col3\" class=\"data row0 col3\" >0.574510</td>\n",
       "    </tr>\n",
       "    <tr>\n",
       "      <th id=\"T_0bf44_level0_row1\" class=\"row_heading level0 row1\" >Partición 2</th>\n",
       "      <td id=\"T_0bf44_row1_col0\" class=\"data row1 col0\" >67.532471</td>\n",
       "      <td id=\"T_0bf44_row1_col1\" class=\"data row1 col1\" >50.000000</td>\n",
       "      <td id=\"T_0bf44_row1_col2\" class=\"data row1 col2\" >64.025970</td>\n",
       "      <td id=\"T_0bf44_row1_col3\" class=\"data row1 col3\" >0.576476</td>\n",
       "    </tr>\n",
       "    <tr>\n",
       "      <th id=\"T_0bf44_level0_row2\" class=\"row_heading level0 row2\" >Partición 3</th>\n",
       "      <td id=\"T_0bf44_row2_col0\" class=\"data row2 col0\" >65.584419</td>\n",
       "      <td id=\"T_0bf44_row2_col1\" class=\"data row2 col1\" >50.000000</td>\n",
       "      <td id=\"T_0bf44_row2_col2\" class=\"data row2 col2\" >62.467533</td>\n",
       "      <td id=\"T_0bf44_row2_col3\" class=\"data row2 col3\" >0.575315</td>\n",
       "    </tr>\n",
       "    <tr>\n",
       "      <th id=\"T_0bf44_level0_row3\" class=\"row_heading level0 row3\" >Partición 4</th>\n",
       "      <td id=\"T_0bf44_row3_col0\" class=\"data row3 col0\" >65.584419</td>\n",
       "      <td id=\"T_0bf44_row3_col1\" class=\"data row3 col1\" >50.000000</td>\n",
       "      <td id=\"T_0bf44_row3_col2\" class=\"data row3 col2\" >62.467533</td>\n",
       "      <td id=\"T_0bf44_row3_col3\" class=\"data row3 col3\" >0.558236</td>\n",
       "    </tr>\n",
       "    <tr>\n",
       "      <th id=\"T_0bf44_level0_row4\" class=\"row_heading level0 row4\" >Partición 5</th>\n",
       "      <td id=\"T_0bf44_row4_col0\" class=\"data row4 col0\" >67.763161</td>\n",
       "      <td id=\"T_0bf44_row4_col1\" class=\"data row4 col1\" >50.000000</td>\n",
       "      <td id=\"T_0bf44_row4_col2\" class=\"data row4 col2\" >64.210526</td>\n",
       "      <td id=\"T_0bf44_row4_col3\" class=\"data row4 col3\" >0.553250</td>\n",
       "    </tr>\n",
       "    <tr>\n",
       "      <th id=\"T_0bf44_level0_row5\" class=\"row_heading level0 row5\" >Media</th>\n",
       "      <td id=\"T_0bf44_row5_col0\" class=\"data row5 col0\" >67.448738</td>\n",
       "      <td id=\"T_0bf44_row5_col1\" class=\"data row5 col1\" >50.000000</td>\n",
       "      <td id=\"T_0bf44_row5_col2\" class=\"data row5 col2\" >63.958984</td>\n",
       "      <td id=\"T_0bf44_row5_col3\" class=\"data row5 col3\" >0.567557</td>\n",
       "    </tr>\n",
       "  </tbody>\n",
       "</table>\n"
      ],
      "text/plain": [
       "<pandas.io.formats.style.Styler at 0x7fd538328bb0>"
      ]
     },
     "execution_count": 2,
     "metadata": {},
     "output_type": "execute_result"
    }
   ],
   "source": [
    "score_relief = fwl.validate(ds=diabetes_ds, fwl_algo=fwl.relief).style.set_caption('Relief')\n",
    "score_relief"
   ]
  }
 ],
 "metadata": {
  "kernelspec": {
   "display_name": "env",
   "language": "python",
   "name": "python3"
  },
  "language_info": {
   "codemirror_mode": {
    "name": "ipython",
    "version": 3
   },
   "file_extension": ".py",
   "mimetype": "text/x-python",
   "name": "python",
   "nbconvert_exporter": "python",
   "pygments_lexer": "ipython3",
   "version": "3.10.6"
  },
  "orig_nbformat": 4
 },
 "nbformat": 4,
 "nbformat_minor": 2
}
