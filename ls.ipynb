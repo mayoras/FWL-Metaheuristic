{
 "cells": [
  {
   "cell_type": "code",
   "execution_count": 1,
   "metadata": {},
   "outputs": [],
   "source": [
    "import numpy as np\n",
    "from fwl.dataset import Dataset\n",
    "from fwl.knn import KNN\n",
    "import fwl.fwl as fwl\n",
    "from fwl.helpers import euclidean_dist\n",
    "import time\n",
    "\n",
    "diabetes_ds = Dataset('diabetes', normalized=True)\n",
    "ozone_ds = Dataset('ozone-320', normalized=True)\n",
    "spectf_heart_ds = Dataset('spectf-heart', normalized=True)"
   ]
  },
  {
   "cell_type": "code",
   "execution_count": 3,
   "metadata": {},
   "outputs": [],
   "source": [
    "# One fold\n",
    "test_part_key = 1\n",
    "x_train = np.concatenate(\n",
    "\t[\n",
    "\t\tdiabetes_ds.partitions[i]\n",
    "\t\tfor i in filter(lambda x: x != test_part_key, diabetes_ds.partitions)\n",
    "\t]\n",
    ")\n",
    "y_train = np.concatenate(\n",
    "\t[diabetes_ds.classes[i] for i in filter(lambda x: x != test_part_key, diabetes_ds.partitions)]\n",
    ")"
   ]
  },
  {
   "cell_type": "code",
   "execution_count": 5,
   "metadata": {},
   "outputs": [
    {
     "data": {
      "text/plain": [
       "array([1., 0., 0., 0., 0., 0., 0., 0., 1., 1., 0., 0., 0., 1., 1., 0., 0.,\n",
       "       0., 0., 1., 0., 0., 0., 0., 0., 1., 1., 0., 0., 0., 1., 1., 1., 0.,\n",
       "       0., 0., 1., 1., 0., 0., 1., 1., 0., 0., 1., 0., 1., 0., 1., 1., 1.,\n",
       "       0., 1., 1., 0., 0., 0., 0., 0., 0., 0., 1., 0., 0., 0., 0., 1., 0.,\n",
       "       1., 0., 1., 0., 0., 0., 0., 0., 0., 0., 0., 0., 1., 0., 1., 0., 1.,\n",
       "       0., 1., 0., 1., 0., 0., 1., 1., 0., 0., 0., 0., 1., 0., 0., 1., 0.,\n",
       "       0., 0., 0., 0., 1., 0., 1., 0., 1., 1., 0., 0., 0., 0., 0., 1., 0.,\n",
       "       1., 0., 0., 0., 0., 0., 1., 0., 0., 1., 1., 0., 0., 1., 0., 0., 0.,\n",
       "       0., 0., 0., 0., 0., 0., 1., 0., 0., 0., 0., 1., 0., 1., 0., 0., 0.,\n",
       "       0., 1., 1., 0., 0., 0., 0., 0., 1., 0., 0., 0., 1., 0., 0., 1., 1.,\n",
       "       0., 0., 0., 0., 1., 1., 0., 0., 0., 1., 1., 0., 0., 0., 0., 0., 0.,\n",
       "       0., 1., 0., 1., 0., 0., 0., 1., 1., 1., 1., 1., 0., 1., 1., 0., 0.,\n",
       "       0., 1., 1., 1., 0., 0., 0., 0., 0., 0., 0., 0., 0., 0., 0., 0., 0.,\n",
       "       0., 1., 0., 0., 0., 0., 0., 1., 1., 0., 1., 0., 1., 1., 0., 1., 0.,\n",
       "       0., 0., 0., 1., 0., 0., 1., 1., 0., 1., 0., 1., 1., 0., 0., 1., 1.,\n",
       "       1., 1., 0., 0., 1., 0., 1., 0., 0., 0., 0., 1., 1., 1., 1., 0., 1.,\n",
       "       0., 0., 0., 1., 0., 0., 0., 1., 1., 0., 0., 0., 0., 0., 0., 0., 0.,\n",
       "       0., 1., 0., 0., 0., 1., 1., 0., 0., 1., 1., 0., 1., 1., 1., 0., 0.,\n",
       "       1., 1., 1., 0., 1., 1., 0., 0., 1., 0., 0., 0., 0., 0., 1., 0., 0.,\n",
       "       0., 0., 1., 0., 1., 1., 0., 0., 1., 1., 1., 0., 0., 0., 0., 1., 0.,\n",
       "       0., 1., 0., 1., 0., 1., 0., 0., 1., 1., 0., 0., 0., 0., 0., 0., 0.,\n",
       "       0., 0., 0., 1., 0., 1., 0., 1., 0., 0., 0., 1., 0., 0., 0., 0., 0.,\n",
       "       1., 0., 0., 1., 0., 0., 1., 0., 1., 0., 1., 1., 0., 1., 0., 0., 0.,\n",
       "       1., 1., 0., 1., 0., 1., 0., 1., 1., 1., 1., 0., 1., 0., 0., 0., 0.,\n",
       "       0., 1., 1., 0., 0., 0., 0., 0., 1., 0., 1., 0., 0., 0., 0., 0., 0.,\n",
       "       0., 0., 0., 0., 0., 0., 1., 0., 0., 0., 1., 0., 1., 1., 1., 1., 1.,\n",
       "       0., 0., 0., 0., 0., 0., 0., 0., 0., 1., 0., 0., 1., 1., 0., 0., 0.,\n",
       "       0., 0., 0., 1., 0., 0., 0., 1., 0., 1., 0., 1., 0., 0., 0., 1., 0.,\n",
       "       1., 0., 1., 0., 1., 0., 0., 0., 1., 0., 1., 0., 0., 0., 1., 0., 0.,\n",
       "       0., 1., 0., 0., 0., 1., 1., 0., 0., 0., 0., 0., 1., 0., 0., 0., 0.,\n",
       "       0., 1., 0., 0., 0., 1., 0., 0., 1., 0., 0., 1., 1., 0., 0., 1., 1.,\n",
       "       0., 0., 0., 0., 1., 0., 1., 0., 1., 0., 0., 0., 0., 0., 0., 1., 1.,\n",
       "       1., 1., 1., 1., 0., 1., 0., 0., 0., 1., 0., 0., 0., 1., 0., 0., 0.,\n",
       "       1., 1., 0., 0., 0., 1., 0., 1., 0., 1., 1., 0., 1., 0., 0., 0., 0.,\n",
       "       0., 0., 1., 1., 1., 0., 0., 0., 0., 0., 0., 0., 1., 0., 0., 0., 1.,\n",
       "       1., 1., 0., 0., 1., 1., 0., 0., 0., 1., 0., 1., 0., 0., 0., 0., 0.,\n",
       "       0., 0.], dtype=float32)"
      ]
     },
     "execution_count": 5,
     "metadata": {},
     "output_type": "execute_result"
    }
   ],
   "source": [
    "clf = KNN(k=1)\n",
    "\n",
    "clf.fit(x_train, y_train, np.ones(x_train.shape[1]))\n",
    "\n",
    "predictions=clf.predict(x_train)\n",
    "predictions"
   ]
  },
  {
   "cell_type": "code",
   "execution_count": 6,
   "metadata": {},
   "outputs": [
    {
     "name": "stdout",
     "output_type": "stream",
     "text": [
      "0.0,0.3021588322109958,1.0,0.1916621626490833,0.0,0.3120311317695387,0.0,0.03723345223939751\n"
     ]
    },
    {
     "data": {
      "text/plain": [
       "(64.59283387622149, 68.24104234527687, 50.0)"
      ]
     },
     "execution_count": 6,
     "metadata": {},
     "output_type": "execute_result"
    }
   ],
   "source": [
    "w = fwl.relief(x_train, y_train)\n",
    "print(\",\".join([str(f) for f in w]))\n",
    "fwl.T(x_train, y_train, x_train, y_train, w, clf=KNN(k=1))"
   ]
  },
  {
   "cell_type": "code",
   "execution_count": 10,
   "metadata": {},
   "outputs": [
    {
     "name": "stdout",
     "output_type": "stream",
     "text": [
      "time: 12.243966344998626\n"
     ]
    },
    {
     "data": {
      "text/plain": [
       "array([0.55222883, 1.        , 0.        , 0.09526107, 0.91055528,\n",
       "       0.08799606, 0.        , 1.        ])"
      ]
     },
     "execution_count": 10,
     "metadata": {},
     "output_type": "execute_result"
    }
   ],
   "source": [
    "np.random.seed(0)\n",
    "start = time.monotonic()\n",
    "w = fwl.ls(x_train=x_train, y_train=y_train)\n",
    "end = time.monotonic()\n",
    "print(\"time:\", end - start)\n",
    "w"
   ]
  },
  {
   "cell_type": "code",
   "execution_count": 9,
   "metadata": {},
   "outputs": [
    {
     "name": "stdout",
     "output_type": "stream",
     "text": [
      "solution partition 1: [0.04224325 0.08217602 0.         0.         0.         0.\n",
      " 0.         0.        ]\n",
      "solution partition 2: [0.         0.03049259 0.05017336 0.         0.84395611 0.73384572\n",
      " 0.00310479 0.9920108 ]\n",
      "solution partition 3: [0.0179684  0.801951   0.08464583 0.         0.05107548 0.70127528\n",
      " 1.         0.40223014]\n",
      "solution partition 4: [1.         0.51915159 0.         0.82102953 0.         0.\n",
      " 0.05319848 0.99036852]\n",
      "solution partition 5: [0.         0.46811864 0.04640065 0.         0.05618211 0.91390907\n",
      " 0.08874817 1.        ]\n"
     ]
    },
    {
     "data": {
      "text/html": [
       "<div>\n",
       "<style scoped>\n",
       "    .dataframe tbody tr th:only-of-type {\n",
       "        vertical-align: middle;\n",
       "    }\n",
       "\n",
       "    .dataframe tbody tr th {\n",
       "        vertical-align: top;\n",
       "    }\n",
       "\n",
       "    .dataframe thead th {\n",
       "        text-align: right;\n",
       "    }\n",
       "</style>\n",
       "<table border=\"1\" class=\"dataframe\">\n",
       "  <thead>\n",
       "    <tr style=\"text-align: right;\">\n",
       "      <th></th>\n",
       "      <th>%_clas</th>\n",
       "      <th>%_red</th>\n",
       "      <th>Fit.</th>\n",
       "      <th>T(s)</th>\n",
       "    </tr>\n",
       "  </thead>\n",
       "  <tbody>\n",
       "    <tr>\n",
       "      <th>Partición 1</th>\n",
       "      <td>61.688313</td>\n",
       "      <td>100.0</td>\n",
       "      <td>69.350647</td>\n",
       "      <td>12.627505</td>\n",
       "    </tr>\n",
       "    <tr>\n",
       "      <th>Partición 2</th>\n",
       "      <td>61.038960</td>\n",
       "      <td>62.5</td>\n",
       "      <td>61.331169</td>\n",
       "      <td>12.263597</td>\n",
       "    </tr>\n",
       "    <tr>\n",
       "      <th>Partición 3</th>\n",
       "      <td>75.974030</td>\n",
       "      <td>50.0</td>\n",
       "      <td>70.779221</td>\n",
       "      <td>12.123028</td>\n",
       "    </tr>\n",
       "    <tr>\n",
       "      <th>Partición 4</th>\n",
       "      <td>68.181816</td>\n",
       "      <td>50.0</td>\n",
       "      <td>64.545456</td>\n",
       "      <td>11.989312</td>\n",
       "    </tr>\n",
       "    <tr>\n",
       "      <th>Partición 5</th>\n",
       "      <td>69.078949</td>\n",
       "      <td>62.5</td>\n",
       "      <td>67.763161</td>\n",
       "      <td>12.560135</td>\n",
       "    </tr>\n",
       "    <tr>\n",
       "      <th>Media</th>\n",
       "      <td>67.192413</td>\n",
       "      <td>65.0</td>\n",
       "      <td>66.753929</td>\n",
       "      <td>12.312716</td>\n",
       "    </tr>\n",
       "  </tbody>\n",
       "</table>\n",
       "</div>"
      ],
      "text/plain": [
       "                %_clas  %_red       Fit.       T(s)\n",
       "Partición 1  61.688313  100.0  69.350647  12.627505\n",
       "Partición 2  61.038960   62.5  61.331169  12.263597\n",
       "Partición 3  75.974030   50.0  70.779221  12.123028\n",
       "Partición 4  68.181816   50.0  64.545456  11.989312\n",
       "Partición 5  69.078949   62.5  67.763161  12.560135\n",
       "Media        67.192413   65.0  66.753929  12.312716"
      ]
     },
     "execution_count": 9,
     "metadata": {},
     "output_type": "execute_result"
    }
   ],
   "source": [
    "score_ls = fwl.validate(ds=diabetes_ds, fwl_algo=fwl.ls)\n",
    "score_ls"
   ]
  }
 ],
 "metadata": {
  "kernelspec": {
   "display_name": "env",
   "language": "python",
   "name": "python3"
  },
  "language_info": {
   "codemirror_mode": {
    "name": "ipython",
    "version": 3
   },
   "file_extension": ".py",
   "mimetype": "text/x-python",
   "name": "python",
   "nbconvert_exporter": "python",
   "pygments_lexer": "ipython3",
   "version": "3.10.6"
  },
  "orig_nbformat": 4
 },
 "nbformat": 4,
 "nbformat_minor": 2
}
